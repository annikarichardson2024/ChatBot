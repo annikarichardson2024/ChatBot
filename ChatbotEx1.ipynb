{
  "nbformat": 4,
  "nbformat_minor": 0,
  "metadata": {
    "colab": {
      "provenance": [],
      "gpuType": "T4",
      "include_colab_link": true
    },
    "kernelspec": {
      "name": "python3",
      "display_name": "Python 3"
    },
    "language_info": {
      "name": "python"
    },
    "accelerator": "GPU"
  },
  "cells": [
    {
      "cell_type": "markdown",
      "metadata": {
        "id": "view-in-github",
        "colab_type": "text"
      },
      "source": [
        "<a href=\"https://colab.research.google.com/github/annikarichardson2024/ChatBot/blob/main/ChatbotEx1.ipynb\" target=\"_parent\"><img src=\"https://colab.research.google.com/assets/colab-badge.svg\" alt=\"Open In Colab\"/></a>"
      ]
    },
    {
      "cell_type": "code",
      "source": [
        "!pip install tensorflow"
      ],
      "metadata": {
        "id": "FGyEOshGlMDM",
        "outputId": "e6e6044a-5947-4d80-e285-ae15064bccca",
        "colab": {
          "base_uri": "https://localhost:8080/"
        }
      },
      "execution_count": 1,
      "outputs": [
        {
          "output_type": "stream",
          "name": "stdout",
          "text": [
            "Requirement already satisfied: tensorflow in /usr/local/lib/python3.10/dist-packages (2.15.0)\n",
            "Requirement already satisfied: absl-py>=1.0.0 in /usr/local/lib/python3.10/dist-packages (from tensorflow) (1.4.0)\n",
            "Requirement already satisfied: astunparse>=1.6.0 in /usr/local/lib/python3.10/dist-packages (from tensorflow) (1.6.3)\n",
            "Requirement already satisfied: flatbuffers>=23.5.26 in /usr/local/lib/python3.10/dist-packages (from tensorflow) (24.3.25)\n",
            "Requirement already satisfied: gast!=0.5.0,!=0.5.1,!=0.5.2,>=0.2.1 in /usr/local/lib/python3.10/dist-packages (from tensorflow) (0.5.4)\n",
            "Requirement already satisfied: google-pasta>=0.1.1 in /usr/local/lib/python3.10/dist-packages (from tensorflow) (0.2.0)\n",
            "Requirement already satisfied: h5py>=2.9.0 in /usr/local/lib/python3.10/dist-packages (from tensorflow) (3.9.0)\n",
            "Requirement already satisfied: libclang>=13.0.0 in /usr/local/lib/python3.10/dist-packages (from tensorflow) (18.1.1)\n",
            "Requirement already satisfied: ml-dtypes~=0.2.0 in /usr/local/lib/python3.10/dist-packages (from tensorflow) (0.2.0)\n",
            "Requirement already satisfied: numpy<2.0.0,>=1.23.5 in /usr/local/lib/python3.10/dist-packages (from tensorflow) (1.25.2)\n",
            "Requirement already satisfied: opt-einsum>=2.3.2 in /usr/local/lib/python3.10/dist-packages (from tensorflow) (3.3.0)\n",
            "Requirement already satisfied: packaging in /usr/local/lib/python3.10/dist-packages (from tensorflow) (24.0)\n",
            "Requirement already satisfied: protobuf!=4.21.0,!=4.21.1,!=4.21.2,!=4.21.3,!=4.21.4,!=4.21.5,<5.0.0dev,>=3.20.3 in /usr/local/lib/python3.10/dist-packages (from tensorflow) (3.20.3)\n",
            "Requirement already satisfied: setuptools in /usr/local/lib/python3.10/dist-packages (from tensorflow) (67.7.2)\n",
            "Requirement already satisfied: six>=1.12.0 in /usr/local/lib/python3.10/dist-packages (from tensorflow) (1.16.0)\n",
            "Requirement already satisfied: termcolor>=1.1.0 in /usr/local/lib/python3.10/dist-packages (from tensorflow) (2.4.0)\n",
            "Requirement already satisfied: typing-extensions>=3.6.6 in /usr/local/lib/python3.10/dist-packages (from tensorflow) (4.10.0)\n",
            "Requirement already satisfied: wrapt<1.15,>=1.11.0 in /usr/local/lib/python3.10/dist-packages (from tensorflow) (1.14.1)\n",
            "Requirement already satisfied: tensorflow-io-gcs-filesystem>=0.23.1 in /usr/local/lib/python3.10/dist-packages (from tensorflow) (0.36.0)\n",
            "Requirement already satisfied: grpcio<2.0,>=1.24.3 in /usr/local/lib/python3.10/dist-packages (from tensorflow) (1.62.1)\n",
            "Requirement already satisfied: tensorboard<2.16,>=2.15 in /usr/local/lib/python3.10/dist-packages (from tensorflow) (2.15.2)\n",
            "Requirement already satisfied: tensorflow-estimator<2.16,>=2.15.0 in /usr/local/lib/python3.10/dist-packages (from tensorflow) (2.15.0)\n",
            "Requirement already satisfied: keras<2.16,>=2.15.0 in /usr/local/lib/python3.10/dist-packages (from tensorflow) (2.15.0)\n",
            "Requirement already satisfied: wheel<1.0,>=0.23.0 in /usr/local/lib/python3.10/dist-packages (from astunparse>=1.6.0->tensorflow) (0.43.0)\n",
            "Requirement already satisfied: google-auth<3,>=1.6.3 in /usr/local/lib/python3.10/dist-packages (from tensorboard<2.16,>=2.15->tensorflow) (2.27.0)\n",
            "Requirement already satisfied: google-auth-oauthlib<2,>=0.5 in /usr/local/lib/python3.10/dist-packages (from tensorboard<2.16,>=2.15->tensorflow) (1.2.0)\n",
            "Requirement already satisfied: markdown>=2.6.8 in /usr/local/lib/python3.10/dist-packages (from tensorboard<2.16,>=2.15->tensorflow) (3.6)\n",
            "Requirement already satisfied: requests<3,>=2.21.0 in /usr/local/lib/python3.10/dist-packages (from tensorboard<2.16,>=2.15->tensorflow) (2.31.0)\n",
            "Requirement already satisfied: tensorboard-data-server<0.8.0,>=0.7.0 in /usr/local/lib/python3.10/dist-packages (from tensorboard<2.16,>=2.15->tensorflow) (0.7.2)\n",
            "Requirement already satisfied: werkzeug>=1.0.1 in /usr/local/lib/python3.10/dist-packages (from tensorboard<2.16,>=2.15->tensorflow) (3.0.2)\n",
            "Requirement already satisfied: cachetools<6.0,>=2.0.0 in /usr/local/lib/python3.10/dist-packages (from google-auth<3,>=1.6.3->tensorboard<2.16,>=2.15->tensorflow) (5.3.3)\n",
            "Requirement already satisfied: pyasn1-modules>=0.2.1 in /usr/local/lib/python3.10/dist-packages (from google-auth<3,>=1.6.3->tensorboard<2.16,>=2.15->tensorflow) (0.4.0)\n",
            "Requirement already satisfied: rsa<5,>=3.1.4 in /usr/local/lib/python3.10/dist-packages (from google-auth<3,>=1.6.3->tensorboard<2.16,>=2.15->tensorflow) (4.9)\n",
            "Requirement already satisfied: requests-oauthlib>=0.7.0 in /usr/local/lib/python3.10/dist-packages (from google-auth-oauthlib<2,>=0.5->tensorboard<2.16,>=2.15->tensorflow) (1.3.1)\n",
            "Requirement already satisfied: charset-normalizer<4,>=2 in /usr/local/lib/python3.10/dist-packages (from requests<3,>=2.21.0->tensorboard<2.16,>=2.15->tensorflow) (3.3.2)\n",
            "Requirement already satisfied: idna<4,>=2.5 in /usr/local/lib/python3.10/dist-packages (from requests<3,>=2.21.0->tensorboard<2.16,>=2.15->tensorflow) (3.6)\n",
            "Requirement already satisfied: urllib3<3,>=1.21.1 in /usr/local/lib/python3.10/dist-packages (from requests<3,>=2.21.0->tensorboard<2.16,>=2.15->tensorflow) (2.0.7)\n",
            "Requirement already satisfied: certifi>=2017.4.17 in /usr/local/lib/python3.10/dist-packages (from requests<3,>=2.21.0->tensorboard<2.16,>=2.15->tensorflow) (2024.2.2)\n",
            "Requirement already satisfied: MarkupSafe>=2.1.1 in /usr/local/lib/python3.10/dist-packages (from werkzeug>=1.0.1->tensorboard<2.16,>=2.15->tensorflow) (2.1.5)\n",
            "Requirement already satisfied: pyasn1<0.7.0,>=0.4.6 in /usr/local/lib/python3.10/dist-packages (from pyasn1-modules>=0.2.1->google-auth<3,>=1.6.3->tensorboard<2.16,>=2.15->tensorflow) (0.6.0)\n",
            "Requirement already satisfied: oauthlib>=3.0.0 in /usr/local/lib/python3.10/dist-packages (from requests-oauthlib>=0.7.0->google-auth-oauthlib<2,>=0.5->tensorboard<2.16,>=2.15->tensorflow) (3.2.2)\n"
          ]
        }
      ]
    },
    {
      "cell_type": "code",
      "source": [
        "import tensorflow as tf\n",
        "from tensorflow.keras.layers import Input, LSTM, Dense, Embedding\n",
        "from tensorflow.keras.models import Model\n",
        "import numpy as np\n"
      ],
      "metadata": {
        "id": "kQci9JtOr1k5"
      },
      "execution_count": 2,
      "outputs": []
    },
    {
      "cell_type": "code",
      "source": [
        "questions = ['Hello', 'How are you?', 'What is your name?', 'What is TensorFlow?', 'Do you like Python?']\n",
        "answers = ['Hello there!', 'I am fine.', 'I am a bot.', 'TensorFlow is a machine learning library.', 'Yes, Python is great!']"
      ],
      "metadata": {
        "id": "vD5F8bvUl2m0"
      },
      "execution_count": 3,
      "outputs": []
    },
    {
      "cell_type": "code",
      "source": [
        "# Tokenize sentences\n",
        "tokenizer = tf.keras.preprocessing.text.Tokenizer()\n",
        "tokenizer.fit_on_texts(questions + answers)\n",
        "sequences_questions = tokenizer.texts_to_sequences(questions)\n",
        "sequences_answers = tokenizer.texts_to_sequences(answers)"
      ],
      "metadata": {
        "id": "QUHG4Y6Tr5F3"
      },
      "execution_count": 4,
      "outputs": []
    },
    {
      "cell_type": "code",
      "source": [
        "max_length = max(max(len(seq) for seq in sequences_questions), max(len(seq) for seq in sequences_answers))\n",
        "padded_questions = tf.keras.preprocessing.sequence.pad_sequences(sequences_questions, maxlen=max_length, padding='post')\n",
        "padded_answers = tf.keras.preprocessing.sequence.pad_sequences(sequences_answers, maxlen=max_length, padding='post')\n",
        "\n",
        "# voab size\n",
        "vocab_size = len(tokenizer.word_index) + 1"
      ],
      "metadata": {
        "id": "74BoLWMwmXNA"
      },
      "execution_count": 9,
      "outputs": []
    },
    {
      "cell_type": "code",
      "source": [
        "# model parameters\n",
        "embedding_dim = 200\n",
        "units = 1000\n",
        "\n",
        "# Define the encoder model\n",
        "encoder_inputs = Input(shape=(None,))\n",
        "encoder_embedding = Embedding(vocab_size, embedding_dim)(encoder_inputs)\n",
        "encoder_outputs, state_h, state_c = LSTM(units, return_state=True)(encoder_embedding)\n",
        "encoder_states = [state_h, state_c]\n",
        "\n",
        "# Define the decoder model\n",
        "decoder_inputs = Input(shape=(None,))\n",
        "decoder_embedding = Embedding(vocab_size, embedding_dim)(decoder_inputs)\n",
        "decoder_lstm = LSTM(units, return_sequences=True, return_state=True)\n",
        "decoder_outputs, _, _ = decoder_lstm(decoder_embedding, initial_state=encoder_states)\n",
        "decoder_dense = Dense(vocab_size, activation='softmax')\n",
        "decoder_outputs = decoder_dense(decoder_outputs)\n",
        "\n",
        "# Define the seq2seq model\n",
        "model = Model([encoder_inputs, decoder_inputs], decoder_outputs)\n",
        "\n",
        "# Compile the model\n",
        "model.compile(optimizer='rmsprop', loss='sparse_categorical_crossentropy', metrics=['accuracy'])\n"
      ],
      "metadata": {
        "id": "FLgHbyfQr-eR"
      },
      "execution_count": null,
      "outputs": []
    },
    {
      "cell_type": "code",
      "source": [
        "# decoder input data that just contains the start token and the rest is all 0\n",
        "# It's a simplified approach, in practice, you would use teacher forcing or another technique\n",
        "decoder_input_data = np.zeros_like(padded_answers)\n",
        "decoder_input_data[:, 0] = 1  # Assuming 1 is the start token\n",
        "\n",
        "# Train the model\n",
        "model.fit([padded_questions, decoder_input_data], np.expand_dims(padded_answers, -1), batch_size=2, epochs=100)\n"
      ],
      "metadata": {
        "colab": {
          "base_uri": "https://localhost:8080/"
        },
        "id": "yrf87Hl5sZnM",
        "outputId": "a859aaf6-d330-4621-e509-0d2ef20f148f"
      },
      "execution_count": 11,
      "outputs": [
        {
          "output_type": "stream",
          "name": "stdout",
          "text": [
            "Epoch 1/100\n",
            "2/2 [==============================] - 4s 128ms/step - loss: 3.0506 - accuracy: 0.1667\n",
            "Epoch 2/100\n",
            "2/2 [==============================] - 0s 15ms/step - loss: 2.8484 - accuracy: 0.2917\n",
            "Epoch 3/100\n",
            "2/2 [==============================] - 0s 16ms/step - loss: 2.4829 - accuracy: 0.2917\n",
            "Epoch 4/100\n",
            "2/2 [==============================] - 0s 15ms/step - loss: 2.8031 - accuracy: 0.3333\n",
            "Epoch 5/100\n",
            "2/2 [==============================] - 0s 15ms/step - loss: 2.3458 - accuracy: 0.3750\n",
            "Epoch 6/100\n",
            "2/2 [==============================] - 0s 15ms/step - loss: 2.3195 - accuracy: 0.3750\n",
            "Epoch 7/100\n",
            "2/2 [==============================] - 0s 14ms/step - loss: 2.1941 - accuracy: 0.4167\n",
            "Epoch 8/100\n",
            "2/2 [==============================] - 0s 118ms/step - loss: 2.1252 - accuracy: 0.4167\n",
            "Epoch 9/100\n",
            "2/2 [==============================] - 0s 16ms/step - loss: 2.1732 - accuracy: 0.3333\n",
            "Epoch 10/100\n",
            "2/2 [==============================] - 0s 15ms/step - loss: 2.0323 - accuracy: 0.3750\n",
            "Epoch 11/100\n",
            "2/2 [==============================] - 0s 15ms/step - loss: 1.8998 - accuracy: 0.5000\n",
            "Epoch 12/100\n",
            "2/2 [==============================] - 0s 14ms/step - loss: 1.8395 - accuracy: 0.4583\n",
            "Epoch 13/100\n",
            "2/2 [==============================] - 0s 14ms/step - loss: 1.7130 - accuracy: 0.4167\n",
            "Epoch 14/100\n",
            "2/2 [==============================] - 0s 14ms/step - loss: 1.6564 - accuracy: 0.4583\n",
            "Epoch 15/100\n",
            "2/2 [==============================] - 0s 14ms/step - loss: 1.7091 - accuracy: 0.4583\n",
            "Epoch 16/100\n",
            "2/2 [==============================] - 0s 14ms/step - loss: 1.5717 - accuracy: 0.5417\n",
            "Epoch 17/100\n",
            "2/2 [==============================] - 0s 14ms/step - loss: 1.6417 - accuracy: 0.5417\n",
            "Epoch 18/100\n",
            "2/2 [==============================] - 0s 14ms/step - loss: 1.5444 - accuracy: 0.4583\n",
            "Epoch 19/100\n",
            "2/2 [==============================] - 0s 14ms/step - loss: 1.9028 - accuracy: 0.4583\n",
            "Epoch 20/100\n",
            "2/2 [==============================] - 0s 14ms/step - loss: 1.7145 - accuracy: 0.4167\n",
            "Epoch 21/100\n",
            "2/2 [==============================] - 0s 15ms/step - loss: 1.4723 - accuracy: 0.5417\n",
            "Epoch 22/100\n",
            "2/2 [==============================] - 0s 14ms/step - loss: 1.3801 - accuracy: 0.4167\n",
            "Epoch 23/100\n",
            "2/2 [==============================] - 0s 17ms/step - loss: 1.3661 - accuracy: 0.5417\n",
            "Epoch 24/100\n",
            "2/2 [==============================] - 0s 16ms/step - loss: 1.2937 - accuracy: 0.5000\n",
            "Epoch 25/100\n",
            "2/2 [==============================] - 0s 14ms/step - loss: 1.2240 - accuracy: 0.5417\n",
            "Epoch 26/100\n",
            "2/2 [==============================] - 0s 13ms/step - loss: 1.2400 - accuracy: 0.5417\n",
            "Epoch 27/100\n",
            "2/2 [==============================] - 0s 14ms/step - loss: 1.2209 - accuracy: 0.6250\n",
            "Epoch 28/100\n",
            "2/2 [==============================] - 0s 14ms/step - loss: 1.2822 - accuracy: 0.5000\n",
            "Epoch 29/100\n",
            "2/2 [==============================] - 0s 14ms/step - loss: 1.2419 - accuracy: 0.5417\n",
            "Epoch 30/100\n",
            "2/2 [==============================] - 0s 14ms/step - loss: 1.0576 - accuracy: 0.6250\n",
            "Epoch 31/100\n",
            "2/2 [==============================] - 0s 13ms/step - loss: 1.0196 - accuracy: 0.5417\n",
            "Epoch 32/100\n",
            "2/2 [==============================] - 0s 13ms/step - loss: 1.3237 - accuracy: 0.5000\n",
            "Epoch 33/100\n",
            "2/2 [==============================] - 0s 13ms/step - loss: 1.1248 - accuracy: 0.5000\n",
            "Epoch 34/100\n",
            "2/2 [==============================] - 0s 16ms/step - loss: 1.0895 - accuracy: 0.6250\n",
            "Epoch 35/100\n",
            "2/2 [==============================] - 0s 13ms/step - loss: 0.9622 - accuracy: 0.6667\n",
            "Epoch 36/100\n",
            "2/2 [==============================] - 0s 13ms/step - loss: 0.7500 - accuracy: 0.7500\n",
            "Epoch 37/100\n",
            "2/2 [==============================] - 0s 13ms/step - loss: 0.7764 - accuracy: 0.6667\n",
            "Epoch 38/100\n",
            "2/2 [==============================] - 0s 13ms/step - loss: 0.7973 - accuracy: 0.6667\n",
            "Epoch 39/100\n",
            "2/2 [==============================] - 0s 12ms/step - loss: 0.8390 - accuracy: 0.4167\n",
            "Epoch 40/100\n",
            "2/2 [==============================] - 0s 13ms/step - loss: 0.7652 - accuracy: 0.7500\n",
            "Epoch 41/100\n",
            "2/2 [==============================] - 0s 14ms/step - loss: 0.6599 - accuracy: 0.6250\n",
            "Epoch 42/100\n",
            "2/2 [==============================] - 0s 13ms/step - loss: 1.0645 - accuracy: 0.5833\n",
            "Epoch 43/100\n",
            "2/2 [==============================] - 0s 13ms/step - loss: 0.6334 - accuracy: 0.7917\n",
            "Epoch 44/100\n",
            "2/2 [==============================] - 0s 13ms/step - loss: 0.7852 - accuracy: 0.6667\n",
            "Epoch 45/100\n",
            "2/2 [==============================] - 0s 13ms/step - loss: 0.7177 - accuracy: 0.5833\n",
            "Epoch 46/100\n",
            "2/2 [==============================] - 0s 13ms/step - loss: 0.5453 - accuracy: 0.7083\n",
            "Epoch 47/100\n",
            "2/2 [==============================] - 0s 13ms/step - loss: 0.5538 - accuracy: 0.7917\n",
            "Epoch 48/100\n",
            "2/2 [==============================] - 0s 13ms/step - loss: 1.2087 - accuracy: 0.5417\n",
            "Epoch 49/100\n",
            "2/2 [==============================] - 0s 12ms/step - loss: 0.9541 - accuracy: 0.5833\n",
            "Epoch 50/100\n",
            "2/2 [==============================] - 0s 13ms/step - loss: 1.1656 - accuracy: 0.5000\n",
            "Epoch 51/100\n",
            "2/2 [==============================] - 0s 12ms/step - loss: 0.8538 - accuracy: 0.5833\n",
            "Epoch 52/100\n",
            "2/2 [==============================] - 0s 13ms/step - loss: 0.4126 - accuracy: 0.8750\n",
            "Epoch 53/100\n",
            "2/2 [==============================] - 0s 13ms/step - loss: 0.3512 - accuracy: 0.9167\n",
            "Epoch 54/100\n",
            "2/2 [==============================] - 0s 14ms/step - loss: 0.4115 - accuracy: 0.8333\n",
            "Epoch 55/100\n",
            "2/2 [==============================] - 0s 13ms/step - loss: 0.3504 - accuracy: 0.9167\n",
            "Epoch 56/100\n",
            "2/2 [==============================] - 0s 13ms/step - loss: 0.3743 - accuracy: 0.8333\n",
            "Epoch 57/100\n",
            "2/2 [==============================] - 0s 21ms/step - loss: 0.3426 - accuracy: 0.8750\n",
            "Epoch 58/100\n",
            "2/2 [==============================] - 0s 18ms/step - loss: 0.3998 - accuracy: 0.8333\n",
            "Epoch 59/100\n",
            "2/2 [==============================] - 0s 13ms/step - loss: 0.3034 - accuracy: 0.8333\n",
            "Epoch 60/100\n",
            "2/2 [==============================] - 0s 13ms/step - loss: 0.2221 - accuracy: 0.9583\n",
            "Epoch 61/100\n",
            "2/2 [==============================] - 0s 15ms/step - loss: 0.2740 - accuracy: 0.8750\n",
            "Epoch 62/100\n",
            "2/2 [==============================] - 0s 13ms/step - loss: 0.2705 - accuracy: 0.9167\n",
            "Epoch 63/100\n",
            "2/2 [==============================] - 0s 13ms/step - loss: 0.3394 - accuracy: 0.7917\n",
            "Epoch 64/100\n",
            "2/2 [==============================] - 0s 13ms/step - loss: 0.1280 - accuracy: 1.0000\n",
            "Epoch 65/100\n",
            "2/2 [==============================] - 0s 13ms/step - loss: 0.0849 - accuracy: 1.0000\n",
            "Epoch 66/100\n",
            "2/2 [==============================] - 0s 13ms/step - loss: 0.0572 - accuracy: 1.0000\n",
            "Epoch 67/100\n",
            "2/2 [==============================] - 0s 13ms/step - loss: 0.0422 - accuracy: 1.0000\n",
            "Epoch 68/100\n",
            "2/2 [==============================] - 0s 13ms/step - loss: 0.0341 - accuracy: 1.0000\n",
            "Epoch 69/100\n",
            "2/2 [==============================] - 0s 13ms/step - loss: 0.0293 - accuracy: 1.0000\n",
            "Epoch 70/100\n",
            "2/2 [==============================] - 0s 13ms/step - loss: 0.0255 - accuracy: 1.0000\n",
            "Epoch 71/100\n",
            "2/2 [==============================] - 0s 13ms/step - loss: 0.0227 - accuracy: 1.0000\n",
            "Epoch 72/100\n",
            "2/2 [==============================] - 0s 13ms/step - loss: 0.0204 - accuracy: 1.0000\n",
            "Epoch 73/100\n",
            "2/2 [==============================] - 0s 14ms/step - loss: 0.0185 - accuracy: 1.0000\n",
            "Epoch 74/100\n",
            "2/2 [==============================] - 0s 15ms/step - loss: 0.0169 - accuracy: 1.0000\n",
            "Epoch 75/100\n",
            "2/2 [==============================] - 0s 13ms/step - loss: 0.0154 - accuracy: 1.0000\n",
            "Epoch 76/100\n",
            "2/2 [==============================] - 0s 13ms/step - loss: 0.0142 - accuracy: 1.0000\n",
            "Epoch 77/100\n",
            "2/2 [==============================] - 0s 13ms/step - loss: 0.0131 - accuracy: 1.0000\n",
            "Epoch 78/100\n",
            "2/2 [==============================] - 0s 13ms/step - loss: 0.0121 - accuracy: 1.0000\n",
            "Epoch 79/100\n",
            "2/2 [==============================] - 0s 13ms/step - loss: 0.0113 - accuracy: 1.0000\n",
            "Epoch 80/100\n",
            "2/2 [==============================] - 0s 13ms/step - loss: 0.0105 - accuracy: 1.0000\n",
            "Epoch 81/100\n",
            "2/2 [==============================] - 0s 15ms/step - loss: 0.0098 - accuracy: 1.0000\n",
            "Epoch 82/100\n",
            "2/2 [==============================] - 0s 13ms/step - loss: 0.0091 - accuracy: 1.0000\n",
            "Epoch 83/100\n",
            "2/2 [==============================] - 0s 14ms/step - loss: 0.0085 - accuracy: 1.0000\n",
            "Epoch 84/100\n",
            "2/2 [==============================] - 0s 12ms/step - loss: 0.0079 - accuracy: 1.0000\n",
            "Epoch 85/100\n",
            "2/2 [==============================] - 0s 14ms/step - loss: 0.0075 - accuracy: 1.0000\n",
            "Epoch 86/100\n",
            "2/2 [==============================] - 0s 13ms/step - loss: 0.0070 - accuracy: 1.0000\n",
            "Epoch 87/100\n",
            "2/2 [==============================] - 0s 13ms/step - loss: 0.0065 - accuracy: 1.0000\n",
            "Epoch 88/100\n",
            "2/2 [==============================] - 0s 13ms/step - loss: 0.0062 - accuracy: 1.0000\n",
            "Epoch 89/100\n",
            "2/2 [==============================] - 0s 13ms/step - loss: 0.0058 - accuracy: 1.0000\n",
            "Epoch 90/100\n",
            "2/2 [==============================] - 0s 14ms/step - loss: 0.0054 - accuracy: 1.0000\n",
            "Epoch 91/100\n",
            "2/2 [==============================] - 0s 13ms/step - loss: 0.0051 - accuracy: 1.0000\n",
            "Epoch 92/100\n",
            "2/2 [==============================] - 0s 14ms/step - loss: 0.0048 - accuracy: 1.0000\n",
            "Epoch 93/100\n",
            "2/2 [==============================] - 0s 15ms/step - loss: 0.0046 - accuracy: 1.0000\n",
            "Epoch 94/100\n",
            "2/2 [==============================] - 0s 15ms/step - loss: 0.0043 - accuracy: 1.0000\n",
            "Epoch 95/100\n",
            "2/2 [==============================] - 0s 13ms/step - loss: 0.0041 - accuracy: 1.0000\n",
            "Epoch 96/100\n",
            "2/2 [==============================] - 0s 14ms/step - loss: 0.0038 - accuracy: 1.0000\n",
            "Epoch 97/100\n",
            "2/2 [==============================] - 0s 13ms/step - loss: 0.0036 - accuracy: 1.0000\n",
            "Epoch 98/100\n",
            "2/2 [==============================] - 0s 13ms/step - loss: 0.0035 - accuracy: 1.0000\n",
            "Epoch 99/100\n",
            "2/2 [==============================] - 0s 14ms/step - loss: 0.0033 - accuracy: 1.0000\n",
            "Epoch 100/100\n",
            "2/2 [==============================] - 0s 13ms/step - loss: 0.0031 - accuracy: 1.0000\n"
          ]
        },
        {
          "output_type": "execute_result",
          "data": {
            "text/plain": [
              "<keras.src.callbacks.History at 0x783af109f2b0>"
            ]
          },
          "metadata": {},
          "execution_count": 11
        }
      ]
    },
    {
      "cell_type": "code",
      "source": [
        "# Step 5: Implement the chat function\n",
        "def preprocess_input_text(input_text):\n",
        "    sequence = tokenizer.texts_to_sequences([input_text])\n",
        "    padded_sequence = tf.keras.preprocessing.sequence.pad_sequences(sequence, maxlen=max_length, padding='post')\n",
        "    return padded_sequence\n",
        "\n",
        "def generate_response(input_sequence):\n",
        "    response_sequence = np.zeros((1, max_length))\n",
        "    response_sequence[0, 0] = 1  # start token\n",
        "    for i in range(1, max_length):\n",
        "        prediction = model.predict([input_sequence, response_sequence]).argmax(axis=2)\n",
        "        response_sequence[0, i] = prediction[0, i-1]\n",
        "        if prediction[0, i-1] == 2:  # end token\n",
        "            break\n",
        "    return response_sequence\n",
        "\n",
        "def sequence_to_text(sequence):\n",
        "    return ' '.join(tokenizer.index_word.get(i, '') for i in sequence if i > 2)\n",
        "\n",
        "def chat_with_bot(input_text):\n",
        "    input_sequence = preprocess_input_text(input_text)\n",
        "    response_sequence = generate_response(input_sequence)\n",
        "    response_text = sequence_to_text(response_sequence[0])\n",
        "    return response_text\n",
        "\n",
        "# Step 6: Chat with the bot\n",
        "input_text = \"What is TensorFlow?\"\n",
        "print(f\"You: {input_text}\")\n",
        "print(f\"Bot: {chat_with_bot(input_text)}\")"
      ],
      "metadata": {
        "colab": {
          "base_uri": "https://localhost:8080/"
        },
        "id": "6YTq6HyUtV-D",
        "outputId": "e5f68153-2d73-4461-8889-3be02ef40e76"
      },
      "execution_count": 7,
      "outputs": [
        {
          "output_type": "stream",
          "name": "stdout",
          "text": [
            "You: What is TensorFlow?\n",
            "1/1 [==============================] - 1s 773ms/step\n",
            "1/1 [==============================] - 0s 21ms/step\n",
            "1/1 [==============================] - 0s 22ms/step\n",
            "1/1 [==============================] - 0s 22ms/step\n",
            "1/1 [==============================] - 0s 21ms/step\n",
            "Bot: tensorflow a machine learning\n"
          ]
        }
      ]
    },
    {
      "cell_type": "code",
      "source": [
        "# Interactive chat\n",
        "print(\"Start chatting with the bot! Type 'quit' to exit.\")\n",
        "\n",
        "while True:\n",
        "    user_input = input(\"You: \")\n",
        "    if user_input.lower() == 'quit':\n",
        "        break\n",
        "    response = chat_with_bot(user_input)\n",
        "    print(f\"Bot: {response}\")\n"
      ],
      "metadata": {
        "colab": {
          "base_uri": "https://localhost:8080/"
        },
        "id": "uPIE1rsltpcw",
        "outputId": "74f351a8-f15c-4da3-fa28-c87e78916dbe"
      },
      "execution_count": null,
      "outputs": [
        {
          "output_type": "stream",
          "name": "stdout",
          "text": [
            "Start chatting with the bot! Type 'quit' to exit.\n"
          ]
        }
      ]
    }
  ]
}