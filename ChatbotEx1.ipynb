{
  "nbformat": 4,
  "nbformat_minor": 0,
  "metadata": {
    "colab": {
      "provenance": [],
      "gpuType": "T4",
      "include_colab_link": true
    },
    "kernelspec": {
      "name": "python3",
      "display_name": "Python 3"
    },
    "language_info": {
      "name": "python"
    },
    "accelerator": "GPU"
  },
  "cells": [
    {
      "cell_type": "markdown",
      "metadata": {
        "id": "view-in-github",
        "colab_type": "text"
      },
      "source": [
        "<a href=\"https://colab.research.google.com/github/annikarichardson2024/ChatBot/blob/main/ChatbotEx1.ipynb\" target=\"_parent\"><img src=\"https://colab.research.google.com/assets/colab-badge.svg\" alt=\"Open In Colab\"/></a>"
      ]
    },
    {
      "cell_type": "code",
      "source": [
        "!pip install tensorflow"
      ],
      "metadata": {
        "id": "O2K6L8woOMNO",
        "outputId": "f63607dc-e35c-4a9d-a6ad-7c210e4302f3",
        "colab": {
          "base_uri": "https://localhost:8080/"
        }
      },
      "execution_count": null,
      "outputs": [
        {
          "output_type": "stream",
          "name": "stdout",
          "text": [
            "Requirement already satisfied: tensorflow in /usr/local/lib/python3.10/dist-packages (2.15.0)\n",
            "Requirement already satisfied: absl-py>=1.0.0 in /usr/local/lib/python3.10/dist-packages (from tensorflow) (1.4.0)\n",
            "Requirement already satisfied: astunparse>=1.6.0 in /usr/local/lib/python3.10/dist-packages (from tensorflow) (1.6.3)\n",
            "Requirement already satisfied: flatbuffers>=23.5.26 in /usr/local/lib/python3.10/dist-packages (from tensorflow) (24.3.25)\n",
            "Requirement already satisfied: gast!=0.5.0,!=0.5.1,!=0.5.2,>=0.2.1 in /usr/local/lib/python3.10/dist-packages (from tensorflow) (0.5.4)\n",
            "Requirement already satisfied: google-pasta>=0.1.1 in /usr/local/lib/python3.10/dist-packages (from tensorflow) (0.2.0)\n",
            "Requirement already satisfied: h5py>=2.9.0 in /usr/local/lib/python3.10/dist-packages (from tensorflow) (3.9.0)\n",
            "Requirement already satisfied: libclang>=13.0.0 in /usr/local/lib/python3.10/dist-packages (from tensorflow) (18.1.1)\n",
            "Requirement already satisfied: ml-dtypes~=0.2.0 in /usr/local/lib/python3.10/dist-packages (from tensorflow) (0.2.0)\n",
            "Requirement already satisfied: numpy<2.0.0,>=1.23.5 in /usr/local/lib/python3.10/dist-packages (from tensorflow) (1.25.2)\n",
            "Requirement already satisfied: opt-einsum>=2.3.2 in /usr/local/lib/python3.10/dist-packages (from tensorflow) (3.3.0)\n",
            "Requirement already satisfied: packaging in /usr/local/lib/python3.10/dist-packages (from tensorflow) (24.0)\n",
            "Requirement already satisfied: protobuf!=4.21.0,!=4.21.1,!=4.21.2,!=4.21.3,!=4.21.4,!=4.21.5,<5.0.0dev,>=3.20.3 in /usr/local/lib/python3.10/dist-packages (from tensorflow) (3.20.3)\n",
            "Requirement already satisfied: setuptools in /usr/local/lib/python3.10/dist-packages (from tensorflow) (67.7.2)\n",
            "Requirement already satisfied: six>=1.12.0 in /usr/local/lib/python3.10/dist-packages (from tensorflow) (1.16.0)\n",
            "Requirement already satisfied: termcolor>=1.1.0 in /usr/local/lib/python3.10/dist-packages (from tensorflow) (2.4.0)\n",
            "Requirement already satisfied: typing-extensions>=3.6.6 in /usr/local/lib/python3.10/dist-packages (from tensorflow) (4.10.0)\n",
            "Requirement already satisfied: wrapt<1.15,>=1.11.0 in /usr/local/lib/python3.10/dist-packages (from tensorflow) (1.14.1)\n",
            "Requirement already satisfied: tensorflow-io-gcs-filesystem>=0.23.1 in /usr/local/lib/python3.10/dist-packages (from tensorflow) (0.36.0)\n",
            "Requirement already satisfied: grpcio<2.0,>=1.24.3 in /usr/local/lib/python3.10/dist-packages (from tensorflow) (1.62.1)\n",
            "Requirement already satisfied: tensorboard<2.16,>=2.15 in /usr/local/lib/python3.10/dist-packages (from tensorflow) (2.15.2)\n",
            "Requirement already satisfied: tensorflow-estimator<2.16,>=2.15.0 in /usr/local/lib/python3.10/dist-packages (from tensorflow) (2.15.0)\n",
            "Requirement already satisfied: keras<2.16,>=2.15.0 in /usr/local/lib/python3.10/dist-packages (from tensorflow) (2.15.0)\n",
            "Requirement already satisfied: wheel<1.0,>=0.23.0 in /usr/local/lib/python3.10/dist-packages (from astunparse>=1.6.0->tensorflow) (0.43.0)\n",
            "Requirement already satisfied: google-auth<3,>=1.6.3 in /usr/local/lib/python3.10/dist-packages (from tensorboard<2.16,>=2.15->tensorflow) (2.27.0)\n",
            "Requirement already satisfied: google-auth-oauthlib<2,>=0.5 in /usr/local/lib/python3.10/dist-packages (from tensorboard<2.16,>=2.15->tensorflow) (1.2.0)\n",
            "Requirement already satisfied: markdown>=2.6.8 in /usr/local/lib/python3.10/dist-packages (from tensorboard<2.16,>=2.15->tensorflow) (3.6)\n",
            "Requirement already satisfied: requests<3,>=2.21.0 in /usr/local/lib/python3.10/dist-packages (from tensorboard<2.16,>=2.15->tensorflow) (2.31.0)\n",
            "Requirement already satisfied: tensorboard-data-server<0.8.0,>=0.7.0 in /usr/local/lib/python3.10/dist-packages (from tensorboard<2.16,>=2.15->tensorflow) (0.7.2)\n",
            "Requirement already satisfied: werkzeug>=1.0.1 in /usr/local/lib/python3.10/dist-packages (from tensorboard<2.16,>=2.15->tensorflow) (3.0.2)\n",
            "Requirement already satisfied: cachetools<6.0,>=2.0.0 in /usr/local/lib/python3.10/dist-packages (from google-auth<3,>=1.6.3->tensorboard<2.16,>=2.15->tensorflow) (5.3.3)\n",
            "Requirement already satisfied: pyasn1-modules>=0.2.1 in /usr/local/lib/python3.10/dist-packages (from google-auth<3,>=1.6.3->tensorboard<2.16,>=2.15->tensorflow) (0.4.0)\n",
            "Requirement already satisfied: rsa<5,>=3.1.4 in /usr/local/lib/python3.10/dist-packages (from google-auth<3,>=1.6.3->tensorboard<2.16,>=2.15->tensorflow) (4.9)\n",
            "Requirement already satisfied: requests-oauthlib>=0.7.0 in /usr/local/lib/python3.10/dist-packages (from google-auth-oauthlib<2,>=0.5->tensorboard<2.16,>=2.15->tensorflow) (1.3.1)\n",
            "Requirement already satisfied: charset-normalizer<4,>=2 in /usr/local/lib/python3.10/dist-packages (from requests<3,>=2.21.0->tensorboard<2.16,>=2.15->tensorflow) (3.3.2)\n",
            "Requirement already satisfied: idna<4,>=2.5 in /usr/local/lib/python3.10/dist-packages (from requests<3,>=2.21.0->tensorboard<2.16,>=2.15->tensorflow) (3.6)\n",
            "Requirement already satisfied: urllib3<3,>=1.21.1 in /usr/local/lib/python3.10/dist-packages (from requests<3,>=2.21.0->tensorboard<2.16,>=2.15->tensorflow) (2.0.7)\n",
            "Requirement already satisfied: certifi>=2017.4.17 in /usr/local/lib/python3.10/dist-packages (from requests<3,>=2.21.0->tensorboard<2.16,>=2.15->tensorflow) (2024.2.2)\n",
            "Requirement already satisfied: MarkupSafe>=2.1.1 in /usr/local/lib/python3.10/dist-packages (from werkzeug>=1.0.1->tensorboard<2.16,>=2.15->tensorflow) (2.1.5)\n",
            "Requirement already satisfied: pyasn1<0.7.0,>=0.4.6 in /usr/local/lib/python3.10/dist-packages (from pyasn1-modules>=0.2.1->google-auth<3,>=1.6.3->tensorboard<2.16,>=2.15->tensorflow) (0.6.0)\n",
            "Requirement already satisfied: oauthlib>=3.0.0 in /usr/local/lib/python3.10/dist-packages (from requests-oauthlib>=0.7.0->google-auth-oauthlib<2,>=0.5->tensorboard<2.16,>=2.15->tensorflow) (3.2.2)\n"
          ]
        }
      ]
    },
    {
      "cell_type": "code",
      "source": [
        "import tensorflow as tf\n",
        "from tensorflow.keras.layers import Input, LSTM, Dense, Embedding\n",
        "from tensorflow.keras.models import Model\n",
        "import numpy as np\n"
      ],
      "metadata": {
        "id": "kQci9JtOr1k5"
      },
      "execution_count": 34,
      "outputs": []
    },
    {
      "cell_type": "code",
      "source": [
        "# data\n",
        "questions = ['Hello', 'How are you?', 'What is your name?','Goodbye']\n",
        "answers = ['Hey there!','Very well.', 'My name is bot.','Goodbye!']\n"
      ],
      "metadata": {
        "id": "cOwDkW7iOhmO"
      },
      "execution_count": 35,
      "outputs": []
    },
    {
      "cell_type": "code",
      "source": [
        "# create tokenizer\n",
        "tokenizer = tf.keras.preprocessing.text.Tokenizer()\n",
        "tokenizer.fit_on_texts(questions + answers)"
      ],
      "metadata": {
        "id": "QUHG4Y6Tr5F3"
      },
      "execution_count": 36,
      "outputs": []
    },
    {
      "cell_type": "code",
      "source": [
        "# create sequences\n",
        "sequences_q = tokenizer.texts_to_sequences(questions)\n",
        "sequences_a = tokenizer.texts_to_sequences(answers)"
      ],
      "metadata": {
        "id": "SQ5ToHSsRI7v"
      },
      "execution_count": 37,
      "outputs": []
    },
    {
      "cell_type": "code",
      "source": [
        "# pad the sequences\n",
        "max_length = max(max(len(seq) for seq in sequences_q), max(len(seq) for seq in sequences_a))\n",
        "padded_q = tf.keras.preprocessing.sequence.pad_sequences(sequences_q, maxlen=max_length, padding='post')\n",
        "padded_a = tf.keras.preprocessing.sequence.pad_sequences(sequences_a, maxlen=max_length, padding='post')\n",
        "\n"
      ],
      "metadata": {
        "id": "FYnyC_qgQPUg"
      },
      "execution_count": 22,
      "outputs": []
    },
    {
      "cell_type": "code",
      "source": [
        "# set parameters\n",
        "embedding_dim = 2000\n",
        "units = 1000\n",
        "vocab_size = 5000\n"
      ],
      "metadata": {
        "id": "FLgHbyfQr-eR"
      },
      "execution_count": 39,
      "outputs": []
    },
    {
      "cell_type": "code",
      "source": [
        "# encoder model\n",
        "encoder_inputs = Input(shape=(None,))\n",
        "encoder_embedding = Embedding(vocab_size, embedding_dim)(encoder_inputs)\n",
        "encoder_outputs, state_h, state_c = LSTM(units, return_state=True)(encoder_embedding)\n",
        "encoder_states = [state_h, state_c]\n",
        "\n",
        "# decoder model\n",
        "decoder_inputs = Input(shape=(None,))\n",
        "decoder_embedding = Embedding(vocab_size, embedding_dim)(decoder_inputs)\n",
        "decoder_lstm = LSTM(units, return_sequences=True, return_state=True)\n",
        "decoder_outputs, _, _ = decoder_lstm(decoder_embedding, initial_state=encoder_states)\n",
        "decoder_dense = Dense(vocab_size, activation='softmax')\n",
        "decoder_outputs = decoder_dense(decoder_outputs)"
      ],
      "metadata": {
        "id": "TjVuHuIlRjCj"
      },
      "execution_count": 40,
      "outputs": []
    },
    {
      "cell_type": "code",
      "source": [
        "# seq2seq model\n",
        "model = Model([encoder_inputs, decoder_inputs], decoder_outputs)\n",
        "\n",
        "# compiling the model\n",
        "model.compile(loss='sparse_categorical_crossentropy', optimizer='rmsprop', metrics=['accuracy'])\n"
      ],
      "metadata": {
        "id": "3_GAq8DyRmox"
      },
      "execution_count": 41,
      "outputs": []
    },
    {
      "cell_type": "code",
      "source": [
        "decoder_input_data = np.zeros_like(padded_a)\n",
        "decoder_input_data[:, 0] = 1\n",
        "\n",
        "# Train  model\n",
        "num_epochs = 100\n",
        "model.fit([padded_q, decoder_input_data], np.expand_dims(padded_a, -1), batch_size=2, epochs=num_epochs)\n"
      ],
      "metadata": {
        "colab": {
          "base_uri": "https://localhost:8080/"
        },
        "id": "yrf87Hl5sZnM",
        "outputId": "8999ac02-a2a7-4e47-b6e2-46e60e7d3e5d"
      },
      "execution_count": 42,
      "outputs": [
        {
          "output_type": "stream",
          "name": "stdout",
          "text": [
            "Epoch 1/100\n",
            "2/2 [==============================] - 3s 74ms/step - loss: 8.4471 - accuracy: 0.1875\n",
            "Epoch 2/100\n",
            "2/2 [==============================] - 0s 24ms/step - loss: 7.9220 - accuracy: 0.4375\n",
            "Epoch 3/100\n",
            "2/2 [==============================] - 0s 82ms/step - loss: 5.9157 - accuracy: 0.4375\n",
            "Epoch 4/100\n",
            "2/2 [==============================] - 0s 23ms/step - loss: 3.9507 - accuracy: 0.4375\n",
            "Epoch 5/100\n",
            "2/2 [==============================] - 0s 23ms/step - loss: 3.3060 - accuracy: 0.4375\n",
            "Epoch 6/100\n",
            "2/2 [==============================] - 0s 23ms/step - loss: 2.7970 - accuracy: 0.3125\n",
            "Epoch 7/100\n",
            "2/2 [==============================] - 0s 23ms/step - loss: 2.9545 - accuracy: 0.1250\n",
            "Epoch 8/100\n",
            "2/2 [==============================] - 0s 22ms/step - loss: 2.1314 - accuracy: 0.4375\n",
            "Epoch 9/100\n",
            "2/2 [==============================] - 0s 22ms/step - loss: 1.9249 - accuracy: 0.4375\n",
            "Epoch 10/100\n",
            "2/2 [==============================] - 0s 22ms/step - loss: 1.8393 - accuracy: 0.4375\n",
            "Epoch 11/100\n",
            "2/2 [==============================] - 0s 22ms/step - loss: 1.8754 - accuracy: 0.3750\n",
            "Epoch 12/100\n",
            "2/2 [==============================] - 0s 22ms/step - loss: 1.6949 - accuracy: 0.5000\n",
            "Epoch 13/100\n",
            "2/2 [==============================] - 0s 21ms/step - loss: 1.4801 - accuracy: 0.5625\n",
            "Epoch 14/100\n",
            "2/2 [==============================] - 0s 22ms/step - loss: 1.8652 - accuracy: 0.3750\n",
            "Epoch 15/100\n",
            "2/2 [==============================] - 0s 21ms/step - loss: 1.5286 - accuracy: 0.5625\n",
            "Epoch 16/100\n",
            "2/2 [==============================] - 0s 21ms/step - loss: 1.3610 - accuracy: 0.6250\n",
            "Epoch 17/100\n",
            "2/2 [==============================] - 0s 21ms/step - loss: 1.3748 - accuracy: 0.5625\n",
            "Epoch 18/100\n",
            "2/2 [==============================] - 0s 21ms/step - loss: 1.1752 - accuracy: 0.6250\n",
            "Epoch 19/100\n",
            "2/2 [==============================] - 0s 21ms/step - loss: 1.2152 - accuracy: 0.5625\n",
            "Epoch 20/100\n",
            "2/2 [==============================] - 0s 21ms/step - loss: 1.1202 - accuracy: 0.4375\n",
            "Epoch 21/100\n",
            "2/2 [==============================] - 0s 21ms/step - loss: 0.9786 - accuracy: 0.5625\n",
            "Epoch 22/100\n",
            "2/2 [==============================] - 0s 22ms/step - loss: 0.9169 - accuracy: 0.6875\n",
            "Epoch 23/100\n",
            "2/2 [==============================] - 0s 21ms/step - loss: 0.8462 - accuracy: 0.6875\n",
            "Epoch 24/100\n",
            "2/2 [==============================] - 0s 21ms/step - loss: 0.6901 - accuracy: 0.7500\n",
            "Epoch 25/100\n",
            "2/2 [==============================] - 0s 21ms/step - loss: 0.7513 - accuracy: 0.6875\n",
            "Epoch 26/100\n",
            "2/2 [==============================] - 0s 22ms/step - loss: 0.6298 - accuracy: 0.8125\n",
            "Epoch 27/100\n",
            "2/2 [==============================] - 0s 21ms/step - loss: 0.5795 - accuracy: 0.8125\n",
            "Epoch 28/100\n",
            "2/2 [==============================] - 0s 21ms/step - loss: 0.6366 - accuracy: 0.6875\n",
            "Epoch 29/100\n",
            "2/2 [==============================] - 0s 21ms/step - loss: 0.5010 - accuracy: 0.8125\n",
            "Epoch 30/100\n",
            "2/2 [==============================] - 0s 22ms/step - loss: 0.5347 - accuracy: 0.8125\n",
            "Epoch 31/100\n",
            "2/2 [==============================] - 0s 21ms/step - loss: 0.6030 - accuracy: 0.7500\n",
            "Epoch 32/100\n",
            "2/2 [==============================] - 0s 21ms/step - loss: 0.5359 - accuracy: 0.7500\n",
            "Epoch 33/100\n",
            "2/2 [==============================] - 0s 21ms/step - loss: 0.5635 - accuracy: 0.8125\n",
            "Epoch 34/100\n",
            "2/2 [==============================] - 0s 21ms/step - loss: 0.5171 - accuracy: 0.7500\n",
            "Epoch 35/100\n",
            "2/2 [==============================] - 0s 21ms/step - loss: 0.3883 - accuracy: 0.8125\n",
            "Epoch 36/100\n",
            "2/2 [==============================] - 0s 21ms/step - loss: 0.5536 - accuracy: 0.5625\n",
            "Epoch 37/100\n",
            "2/2 [==============================] - 0s 24ms/step - loss: 0.5073 - accuracy: 0.7500\n",
            "Epoch 38/100\n",
            "2/2 [==============================] - 0s 23ms/step - loss: 0.3043 - accuracy: 0.8750\n",
            "Epoch 39/100\n",
            "2/2 [==============================] - 0s 24ms/step - loss: 0.2930 - accuracy: 0.9375\n",
            "Epoch 40/100\n",
            "2/2 [==============================] - 0s 21ms/step - loss: 0.2026 - accuracy: 0.9375\n",
            "Epoch 41/100\n",
            "2/2 [==============================] - 0s 21ms/step - loss: 0.1708 - accuracy: 1.0000\n",
            "Epoch 42/100\n",
            "2/2 [==============================] - 0s 23ms/step - loss: 0.1648 - accuracy: 1.0000\n",
            "Epoch 43/100\n",
            "2/2 [==============================] - 0s 21ms/step - loss: 0.1547 - accuracy: 1.0000\n",
            "Epoch 44/100\n",
            "2/2 [==============================] - 0s 24ms/step - loss: 0.1318 - accuracy: 1.0000\n",
            "Epoch 45/100\n",
            "2/2 [==============================] - 0s 21ms/step - loss: 0.1013 - accuracy: 1.0000\n",
            "Epoch 46/100\n",
            "2/2 [==============================] - 0s 22ms/step - loss: 0.0768 - accuracy: 1.0000\n",
            "Epoch 47/100\n",
            "2/2 [==============================] - 0s 21ms/step - loss: 0.0678 - accuracy: 1.0000\n",
            "Epoch 48/100\n",
            "2/2 [==============================] - 0s 22ms/step - loss: 0.0525 - accuracy: 1.0000\n",
            "Epoch 49/100\n",
            "2/2 [==============================] - 0s 20ms/step - loss: 0.0456 - accuracy: 1.0000\n",
            "Epoch 50/100\n",
            "2/2 [==============================] - 0s 22ms/step - loss: 0.0406 - accuracy: 1.0000\n",
            "Epoch 51/100\n",
            "2/2 [==============================] - 0s 23ms/step - loss: 0.0367 - accuracy: 1.0000\n",
            "Epoch 52/100\n",
            "2/2 [==============================] - 0s 22ms/step - loss: 0.0347 - accuracy: 1.0000\n",
            "Epoch 53/100\n",
            "2/2 [==============================] - 0s 21ms/step - loss: 0.0315 - accuracy: 1.0000\n",
            "Epoch 54/100\n",
            "2/2 [==============================] - 0s 21ms/step - loss: 0.0271 - accuracy: 1.0000\n",
            "Epoch 55/100\n",
            "2/2 [==============================] - 0s 21ms/step - loss: 0.0244 - accuracy: 1.0000\n",
            "Epoch 56/100\n",
            "2/2 [==============================] - 0s 21ms/step - loss: 0.0223 - accuracy: 1.0000\n",
            "Epoch 57/100\n",
            "2/2 [==============================] - 0s 21ms/step - loss: 0.0204 - accuracy: 1.0000\n",
            "Epoch 58/100\n",
            "2/2 [==============================] - 0s 22ms/step - loss: 0.0187 - accuracy: 1.0000\n",
            "Epoch 59/100\n",
            "2/2 [==============================] - 0s 21ms/step - loss: 0.0179 - accuracy: 1.0000\n",
            "Epoch 60/100\n",
            "2/2 [==============================] - 0s 21ms/step - loss: 0.0157 - accuracy: 1.0000\n",
            "Epoch 61/100\n",
            "2/2 [==============================] - 0s 21ms/step - loss: 0.0144 - accuracy: 1.0000\n",
            "Epoch 62/100\n",
            "2/2 [==============================] - 0s 21ms/step - loss: 0.0138 - accuracy: 1.0000\n",
            "Epoch 63/100\n",
            "2/2 [==============================] - 0s 21ms/step - loss: 0.0127 - accuracy: 1.0000\n",
            "Epoch 64/100\n",
            "2/2 [==============================] - 0s 21ms/step - loss: 0.0115 - accuracy: 1.0000\n",
            "Epoch 65/100\n",
            "2/2 [==============================] - 0s 21ms/step - loss: 0.0105 - accuracy: 1.0000\n",
            "Epoch 66/100\n",
            "2/2 [==============================] - 0s 21ms/step - loss: 0.0098 - accuracy: 1.0000\n",
            "Epoch 67/100\n",
            "2/2 [==============================] - 0s 21ms/step - loss: 0.0087 - accuracy: 1.0000\n",
            "Epoch 68/100\n",
            "2/2 [==============================] - 0s 23ms/step - loss: 0.0082 - accuracy: 1.0000\n",
            "Epoch 69/100\n",
            "2/2 [==============================] - 0s 21ms/step - loss: 0.0077 - accuracy: 1.0000\n",
            "Epoch 70/100\n",
            "2/2 [==============================] - 0s 21ms/step - loss: 0.0069 - accuracy: 1.0000\n",
            "Epoch 71/100\n",
            "2/2 [==============================] - 0s 21ms/step - loss: 0.0065 - accuracy: 1.0000\n",
            "Epoch 72/100\n",
            "2/2 [==============================] - 0s 21ms/step - loss: 0.0061 - accuracy: 1.0000\n",
            "Epoch 73/100\n",
            "2/2 [==============================] - 0s 21ms/step - loss: 0.0054 - accuracy: 1.0000\n",
            "Epoch 74/100\n",
            "2/2 [==============================] - 0s 21ms/step - loss: 0.0051 - accuracy: 1.0000\n",
            "Epoch 75/100\n",
            "2/2 [==============================] - 0s 21ms/step - loss: 0.0046 - accuracy: 1.0000\n",
            "Epoch 76/100\n",
            "2/2 [==============================] - 0s 21ms/step - loss: 0.0043 - accuracy: 1.0000\n",
            "Epoch 77/100\n",
            "2/2 [==============================] - 0s 21ms/step - loss: 0.0040 - accuracy: 1.0000\n",
            "Epoch 78/100\n",
            "2/2 [==============================] - 0s 22ms/step - loss: 0.0038 - accuracy: 1.0000\n",
            "Epoch 79/100\n",
            "2/2 [==============================] - 0s 20ms/step - loss: 0.0034 - accuracy: 1.0000\n",
            "Epoch 80/100\n",
            "2/2 [==============================] - 0s 21ms/step - loss: 0.0032 - accuracy: 1.0000\n",
            "Epoch 81/100\n",
            "2/2 [==============================] - 0s 24ms/step - loss: 0.0030 - accuracy: 1.0000\n",
            "Epoch 82/100\n",
            "2/2 [==============================] - 0s 22ms/step - loss: 0.0028 - accuracy: 1.0000\n",
            "Epoch 83/100\n",
            "2/2 [==============================] - 0s 21ms/step - loss: 0.0026 - accuracy: 1.0000\n",
            "Epoch 84/100\n",
            "2/2 [==============================] - 0s 21ms/step - loss: 0.0024 - accuracy: 1.0000\n",
            "Epoch 85/100\n",
            "2/2 [==============================] - 0s 21ms/step - loss: 0.0023 - accuracy: 1.0000\n",
            "Epoch 86/100\n",
            "2/2 [==============================] - 0s 21ms/step - loss: 0.0022 - accuracy: 1.0000\n",
            "Epoch 87/100\n",
            "2/2 [==============================] - 0s 21ms/step - loss: 0.0020 - accuracy: 1.0000\n",
            "Epoch 88/100\n",
            "2/2 [==============================] - 0s 20ms/step - loss: 0.0019 - accuracy: 1.0000\n",
            "Epoch 89/100\n",
            "2/2 [==============================] - 0s 21ms/step - loss: 0.0018 - accuracy: 1.0000\n",
            "Epoch 90/100\n",
            "2/2 [==============================] - 0s 22ms/step - loss: 0.0016 - accuracy: 1.0000\n",
            "Epoch 91/100\n",
            "2/2 [==============================] - 0s 21ms/step - loss: 0.0015 - accuracy: 1.0000\n",
            "Epoch 92/100\n",
            "2/2 [==============================] - 0s 21ms/step - loss: 0.0015 - accuracy: 1.0000\n",
            "Epoch 93/100\n",
            "2/2 [==============================] - 0s 21ms/step - loss: 0.0014 - accuracy: 1.0000\n",
            "Epoch 94/100\n",
            "2/2 [==============================] - 0s 20ms/step - loss: 0.0013 - accuracy: 1.0000\n",
            "Epoch 95/100\n",
            "2/2 [==============================] - 0s 21ms/step - loss: 0.0013 - accuracy: 1.0000\n",
            "Epoch 96/100\n",
            "2/2 [==============================] - 0s 22ms/step - loss: 0.0012 - accuracy: 1.0000\n",
            "Epoch 97/100\n",
            "2/2 [==============================] - 0s 22ms/step - loss: 0.0011 - accuracy: 1.0000\n",
            "Epoch 98/100\n",
            "2/2 [==============================] - 0s 22ms/step - loss: 0.0011 - accuracy: 1.0000\n",
            "Epoch 99/100\n",
            "2/2 [==============================] - 0s 21ms/step - loss: 0.0010 - accuracy: 1.0000\n",
            "Epoch 100/100\n",
            "2/2 [==============================] - 0s 22ms/step - loss: 9.7042e-04 - accuracy: 1.0000\n"
          ]
        },
        {
          "output_type": "execute_result",
          "data": {
            "text/plain": [
              "<keras.src.callbacks.History at 0x7c7c2cfbeef0>"
            ]
          },
          "metadata": {},
          "execution_count": 42
        }
      ]
    },
    {
      "cell_type": "code",
      "source": [
        "# function to predict answers\n",
        "def preprocess(input_text):\n",
        "    sequence = tokenizer.texts_to_sequences([input_text])\n",
        "    padded_sequence = tf.keras.preprocessing.sequence.pad_sequences(sequence, maxlen=max_length, padding='post')\n",
        "    return padded_sequence\n",
        "\n",
        "def generate(input_sequence):\n",
        "    response_sequence = np.zeros((1, max_length))\n",
        "    response_sequence[0, 0] = 1\n",
        "    for i in range(1, max_length):\n",
        "        prediction = model.predict([input_sequence, response_sequence]).argmax(axis=2)\n",
        "        response_sequence[0, i] = prediction[0, i-1]\n",
        "        if prediction[0, i-1] == 2:\n",
        "            break\n",
        "    return response_sequence\n",
        "\n",
        "def sequence(sequence):\n",
        "    return ' '.join(tokenizer.index_word.get(i, '') for i in sequence if i > 2)"
      ],
      "metadata": {
        "id": "6YTq6HyUtV-D"
      },
      "execution_count": 43,
      "outputs": []
    },
    {
      "cell_type": "code",
      "source": [
        "# putting it all together to get responses\n",
        "\n",
        "def chat(input_text):\n",
        "    input_sequence = preprocess(input_text)\n",
        "    response_sequence = generate(input_sequence)\n",
        "    response_text = sequence(response_sequence[0])\n",
        "    return response_text"
      ],
      "metadata": {
        "id": "NmibvN6MT6Yf"
      },
      "execution_count": 48,
      "outputs": []
    },
    {
      "cell_type": "code",
      "source": [
        "# Interactive chat\n",
        "print(\"Say something! Type 'i quit' or 'goodbye' or 'i am done' to exit.\")\n",
        "while True:\n",
        "    question = input('You: ')\n",
        "    if question.lower() == 'i quit':\n",
        "        break\n",
        "    if question.lower() == 'goodbye':\n",
        "        break\n",
        "    if question.lower() == 'i am done':\n",
        "        break\n",
        "    response = chat(question)\n",
        "    print(f\"Chatbot: {response}\")\n",
        "\n"
      ],
      "metadata": {
        "colab": {
          "base_uri": "https://localhost:8080/"
        },
        "id": "uPIE1rsltpcw",
        "outputId": "5cf6e4b4-5097-43af-bc77-e11e7c7a3deb"
      },
      "execution_count": 51,
      "outputs": [
        {
          "name": "stdout",
          "output_type": "stream",
          "text": [
            "Say something! Type 'i quit' or 'goodbye' or 'i am done' to exit.\n",
            "You: I quit\n"
          ]
        }
      ]
    }
  ]
}