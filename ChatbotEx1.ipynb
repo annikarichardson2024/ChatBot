{
  "nbformat": 4,
  "nbformat_minor": 0,
  "metadata": {
    "colab": {
      "provenance": [],
      "gpuType": "T4",
      "include_colab_link": true
    },
    "kernelspec": {
      "name": "python3",
      "display_name": "Python 3"
    },
    "language_info": {
      "name": "python"
    },
    "accelerator": "GPU"
  },
  "cells": [
    {
      "cell_type": "markdown",
      "metadata": {
        "id": "view-in-github",
        "colab_type": "text"
      },
      "source": [
        "<a href=\"https://colab.research.google.com/github/annikarichardson2024/ChatBot/blob/main/ChatbotEx1.ipynb\" target=\"_parent\"><img src=\"https://colab.research.google.com/assets/colab-badge.svg\" alt=\"Open In Colab\"/></a>"
      ]
    },
    {
      "cell_type": "code",
      "source": [
        "!pip install tensorflow"
      ],
      "metadata": {
        "id": "O2K6L8woOMNO",
        "outputId": "f63607dc-e35c-4a9d-a6ad-7c210e4302f3",
        "colab": {
          "base_uri": "https://localhost:8080/"
        }
      },
      "execution_count": 1,
      "outputs": [
        {
          "output_type": "stream",
          "name": "stdout",
          "text": [
            "Requirement already satisfied: tensorflow in /usr/local/lib/python3.10/dist-packages (2.15.0)\n",
            "Requirement already satisfied: absl-py>=1.0.0 in /usr/local/lib/python3.10/dist-packages (from tensorflow) (1.4.0)\n",
            "Requirement already satisfied: astunparse>=1.6.0 in /usr/local/lib/python3.10/dist-packages (from tensorflow) (1.6.3)\n",
            "Requirement already satisfied: flatbuffers>=23.5.26 in /usr/local/lib/python3.10/dist-packages (from tensorflow) (24.3.25)\n",
            "Requirement already satisfied: gast!=0.5.0,!=0.5.1,!=0.5.2,>=0.2.1 in /usr/local/lib/python3.10/dist-packages (from tensorflow) (0.5.4)\n",
            "Requirement already satisfied: google-pasta>=0.1.1 in /usr/local/lib/python3.10/dist-packages (from tensorflow) (0.2.0)\n",
            "Requirement already satisfied: h5py>=2.9.0 in /usr/local/lib/python3.10/dist-packages (from tensorflow) (3.9.0)\n",
            "Requirement already satisfied: libclang>=13.0.0 in /usr/local/lib/python3.10/dist-packages (from tensorflow) (18.1.1)\n",
            "Requirement already satisfied: ml-dtypes~=0.2.0 in /usr/local/lib/python3.10/dist-packages (from tensorflow) (0.2.0)\n",
            "Requirement already satisfied: numpy<2.0.0,>=1.23.5 in /usr/local/lib/python3.10/dist-packages (from tensorflow) (1.25.2)\n",
            "Requirement already satisfied: opt-einsum>=2.3.2 in /usr/local/lib/python3.10/dist-packages (from tensorflow) (3.3.0)\n",
            "Requirement already satisfied: packaging in /usr/local/lib/python3.10/dist-packages (from tensorflow) (24.0)\n",
            "Requirement already satisfied: protobuf!=4.21.0,!=4.21.1,!=4.21.2,!=4.21.3,!=4.21.4,!=4.21.5,<5.0.0dev,>=3.20.3 in /usr/local/lib/python3.10/dist-packages (from tensorflow) (3.20.3)\n",
            "Requirement already satisfied: setuptools in /usr/local/lib/python3.10/dist-packages (from tensorflow) (67.7.2)\n",
            "Requirement already satisfied: six>=1.12.0 in /usr/local/lib/python3.10/dist-packages (from tensorflow) (1.16.0)\n",
            "Requirement already satisfied: termcolor>=1.1.0 in /usr/local/lib/python3.10/dist-packages (from tensorflow) (2.4.0)\n",
            "Requirement already satisfied: typing-extensions>=3.6.6 in /usr/local/lib/python3.10/dist-packages (from tensorflow) (4.10.0)\n",
            "Requirement already satisfied: wrapt<1.15,>=1.11.0 in /usr/local/lib/python3.10/dist-packages (from tensorflow) (1.14.1)\n",
            "Requirement already satisfied: tensorflow-io-gcs-filesystem>=0.23.1 in /usr/local/lib/python3.10/dist-packages (from tensorflow) (0.36.0)\n",
            "Requirement already satisfied: grpcio<2.0,>=1.24.3 in /usr/local/lib/python3.10/dist-packages (from tensorflow) (1.62.1)\n",
            "Requirement already satisfied: tensorboard<2.16,>=2.15 in /usr/local/lib/python3.10/dist-packages (from tensorflow) (2.15.2)\n",
            "Requirement already satisfied: tensorflow-estimator<2.16,>=2.15.0 in /usr/local/lib/python3.10/dist-packages (from tensorflow) (2.15.0)\n",
            "Requirement already satisfied: keras<2.16,>=2.15.0 in /usr/local/lib/python3.10/dist-packages (from tensorflow) (2.15.0)\n",
            "Requirement already satisfied: wheel<1.0,>=0.23.0 in /usr/local/lib/python3.10/dist-packages (from astunparse>=1.6.0->tensorflow) (0.43.0)\n",
            "Requirement already satisfied: google-auth<3,>=1.6.3 in /usr/local/lib/python3.10/dist-packages (from tensorboard<2.16,>=2.15->tensorflow) (2.27.0)\n",
            "Requirement already satisfied: google-auth-oauthlib<2,>=0.5 in /usr/local/lib/python3.10/dist-packages (from tensorboard<2.16,>=2.15->tensorflow) (1.2.0)\n",
            "Requirement already satisfied: markdown>=2.6.8 in /usr/local/lib/python3.10/dist-packages (from tensorboard<2.16,>=2.15->tensorflow) (3.6)\n",
            "Requirement already satisfied: requests<3,>=2.21.0 in /usr/local/lib/python3.10/dist-packages (from tensorboard<2.16,>=2.15->tensorflow) (2.31.0)\n",
            "Requirement already satisfied: tensorboard-data-server<0.8.0,>=0.7.0 in /usr/local/lib/python3.10/dist-packages (from tensorboard<2.16,>=2.15->tensorflow) (0.7.2)\n",
            "Requirement already satisfied: werkzeug>=1.0.1 in /usr/local/lib/python3.10/dist-packages (from tensorboard<2.16,>=2.15->tensorflow) (3.0.2)\n",
            "Requirement already satisfied: cachetools<6.0,>=2.0.0 in /usr/local/lib/python3.10/dist-packages (from google-auth<3,>=1.6.3->tensorboard<2.16,>=2.15->tensorflow) (5.3.3)\n",
            "Requirement already satisfied: pyasn1-modules>=0.2.1 in /usr/local/lib/python3.10/dist-packages (from google-auth<3,>=1.6.3->tensorboard<2.16,>=2.15->tensorflow) (0.4.0)\n",
            "Requirement already satisfied: rsa<5,>=3.1.4 in /usr/local/lib/python3.10/dist-packages (from google-auth<3,>=1.6.3->tensorboard<2.16,>=2.15->tensorflow) (4.9)\n",
            "Requirement already satisfied: requests-oauthlib>=0.7.0 in /usr/local/lib/python3.10/dist-packages (from google-auth-oauthlib<2,>=0.5->tensorboard<2.16,>=2.15->tensorflow) (1.3.1)\n",
            "Requirement already satisfied: charset-normalizer<4,>=2 in /usr/local/lib/python3.10/dist-packages (from requests<3,>=2.21.0->tensorboard<2.16,>=2.15->tensorflow) (3.3.2)\n",
            "Requirement already satisfied: idna<4,>=2.5 in /usr/local/lib/python3.10/dist-packages (from requests<3,>=2.21.0->tensorboard<2.16,>=2.15->tensorflow) (3.6)\n",
            "Requirement already satisfied: urllib3<3,>=1.21.1 in /usr/local/lib/python3.10/dist-packages (from requests<3,>=2.21.0->tensorboard<2.16,>=2.15->tensorflow) (2.0.7)\n",
            "Requirement already satisfied: certifi>=2017.4.17 in /usr/local/lib/python3.10/dist-packages (from requests<3,>=2.21.0->tensorboard<2.16,>=2.15->tensorflow) (2024.2.2)\n",
            "Requirement already satisfied: MarkupSafe>=2.1.1 in /usr/local/lib/python3.10/dist-packages (from werkzeug>=1.0.1->tensorboard<2.16,>=2.15->tensorflow) (2.1.5)\n",
            "Requirement already satisfied: pyasn1<0.7.0,>=0.4.6 in /usr/local/lib/python3.10/dist-packages (from pyasn1-modules>=0.2.1->google-auth<3,>=1.6.3->tensorboard<2.16,>=2.15->tensorflow) (0.6.0)\n",
            "Requirement already satisfied: oauthlib>=3.0.0 in /usr/local/lib/python3.10/dist-packages (from requests-oauthlib>=0.7.0->google-auth-oauthlib<2,>=0.5->tensorboard<2.16,>=2.15->tensorflow) (3.2.2)\n"
          ]
        }
      ]
    },
    {
      "cell_type": "code",
      "source": [
        "import tensorflow as tf\n",
        "from tensorflow.keras.layers import Input, LSTM, Dense, Embedding\n",
        "from tensorflow.keras.models import Model\n",
        "import numpy as np\n"
      ],
      "metadata": {
        "id": "kQci9JtOr1k5"
      },
      "execution_count": 2,
      "outputs": []
    },
    {
      "cell_type": "code",
      "source": [
        "#load data\n",
        "questions = ['Hello', 'How are you?', 'What is your name?','Goodbye']\n",
        "answers = ['Hey there!','Very well.', 'My name is bot.','Goodbye!']\n"
      ],
      "metadata": {
        "id": "cOwDkW7iOhmO"
      },
      "execution_count": 26,
      "outputs": []
    },
    {
      "cell_type": "code",
      "source": [
        "# create tokenizer\n",
        "tokenizer = tf.keras.preprocessing.text.Tokenizer()\n",
        "tokenizer.fit_on_texts(questions + answers)"
      ],
      "metadata": {
        "id": "QUHG4Y6Tr5F3"
      },
      "execution_count": 27,
      "outputs": []
    },
    {
      "cell_type": "code",
      "source": [
        "# create sequences\n",
        "sequences_q = tokenizer.texts_to_sequences(questions)\n",
        "sequences_a = tokenizer.texts_to_sequences(answers)"
      ],
      "metadata": {
        "id": "SQ5ToHSsRI7v"
      },
      "execution_count": 28,
      "outputs": []
    },
    {
      "cell_type": "code",
      "source": [
        "# Pad the sequences\n",
        "max_length = max(max(len(seq) for seq in sequences_q), max(len(seq) for seq in sequences_a))\n",
        "padded_q = tf.keras.preprocessing.sequence.pad_sequences(sequences_q, maxlen=max_length, padding='post')\n",
        "padded_a = tf.keras.preprocessing.sequence.pad_sequences(sequences_a, maxlen=max_length, padding='post')\n",
        "\n"
      ],
      "metadata": {
        "id": "FYnyC_qgQPUg"
      },
      "execution_count": 29,
      "outputs": []
    },
    {
      "cell_type": "code",
      "source": [
        "# setparameters\n",
        "embedding_dim = 2000\n",
        "units = 1024\n",
        "vocab_size = 5000\n"
      ],
      "metadata": {
        "id": "FLgHbyfQr-eR"
      },
      "execution_count": null,
      "outputs": []
    },
    {
      "cell_type": "code",
      "source": [
        "# encoder model\n",
        "encoder_inputs = Input(shape=(None,))\n",
        "encoder_embedding = Embedding(vocab_size, embedding_dim)(encoder_inputs)\n",
        "encoder_outputs, state_h, state_c = LSTM(units, return_state=True)(encoder_embedding)\n",
        "encoder_states = [state_h, state_c]\n",
        "\n",
        "# decoder model\n",
        "decoder_inputs = Input(shape=(None,))\n",
        "decoder_embedding = Embedding(vocab_size, embedding_dim)(decoder_inputs)\n",
        "decoder_lstm = LSTM(units, return_sequences=True, return_state=True)\n",
        "decoder_outputs, _, _ = decoder_lstm(decoder_embedding, initial_state=encoder_states)\n",
        "decoder_dense = Dense(vocab_size, activation='softmax')\n",
        "decoder_outputs = decoder_dense(decoder_outputs)"
      ],
      "metadata": {
        "id": "TjVuHuIlRjCj"
      },
      "execution_count": 31,
      "outputs": []
    },
    {
      "cell_type": "code",
      "source": [
        "# seq2seq model\n",
        "model = Model([encoder_inputs, decoder_inputs], decoder_outputs)\n",
        "\n",
        "# Compile model\n",
        "model.compile(optimizer='rmsprop', loss='sparse_categorical_crossentropy', metrics=['accuracy'])\n"
      ],
      "metadata": {
        "id": "3_GAq8DyRmox"
      },
      "execution_count": 32,
      "outputs": []
    },
    {
      "cell_type": "code",
      "source": [
        "decoder_input_data = np.zeros_like(padded_a)\n",
        "decoder_input_data[:, 0] = 1\n",
        "\n",
        "# Train  model\n",
        "num_epochs = 100\n",
        "model.fit([padded_q, decoder_input_data], np.expand_dims(padded_a, -1), batch_size=2, epochs=num_epochs)\n"
      ],
      "metadata": {
        "colab": {
          "base_uri": "https://localhost:8080/"
        },
        "id": "yrf87Hl5sZnM",
        "outputId": "02f3a172-1c7b-4d52-d373-8430bfa25365"
      },
      "execution_count": 33,
      "outputs": [
        {
          "output_type": "stream",
          "name": "stdout",
          "text": [
            "Epoch 1/100\n",
            "2/2 [==============================] - 3s 68ms/step - loss: 8.5177 - accuracy: 0.0000e+00\n",
            "Epoch 2/100\n",
            "2/2 [==============================] - 0s 68ms/step - loss: 8.4751 - accuracy: 0.1875\n",
            "Epoch 3/100\n",
            "2/2 [==============================] - 0s 16ms/step - loss: 8.4183 - accuracy: 0.1250\n",
            "Epoch 4/100\n",
            "2/2 [==============================] - 0s 17ms/step - loss: 8.3070 - accuracy: 0.1250\n",
            "Epoch 5/100\n",
            "2/2 [==============================] - 0s 15ms/step - loss: 8.0136 - accuracy: 0.1250\n",
            "Epoch 6/100\n",
            "2/2 [==============================] - 0s 15ms/step - loss: 6.7753 - accuracy: 0.1250\n",
            "Epoch 7/100\n",
            "2/2 [==============================] - 0s 16ms/step - loss: 4.3452 - accuracy: 0.1250\n",
            "Epoch 8/100\n",
            "2/2 [==============================] - 0s 16ms/step - loss: 3.3877 - accuracy: 0.1250\n",
            "Epoch 9/100\n",
            "2/2 [==============================] - 0s 14ms/step - loss: 3.0176 - accuracy: 0.1875\n",
            "Epoch 10/100\n",
            "2/2 [==============================] - 0s 15ms/step - loss: 2.6084 - accuracy: 0.2500\n",
            "Epoch 11/100\n",
            "2/2 [==============================] - 0s 15ms/step - loss: 2.9031 - accuracy: 0.0000e+00\n",
            "Epoch 12/100\n",
            "2/2 [==============================] - 0s 14ms/step - loss: 2.4930 - accuracy: 0.2500\n",
            "Epoch 13/100\n",
            "2/2 [==============================] - 0s 17ms/step - loss: 2.4662 - accuracy: 0.2500\n",
            "Epoch 14/100\n",
            "2/2 [==============================] - 0s 14ms/step - loss: 2.2460 - accuracy: 0.1875\n",
            "Epoch 15/100\n",
            "2/2 [==============================] - 0s 15ms/step - loss: 2.1421 - accuracy: 0.3125\n",
            "Epoch 16/100\n",
            "2/2 [==============================] - 0s 14ms/step - loss: 2.1125 - accuracy: 0.2500\n",
            "Epoch 17/100\n",
            "2/2 [==============================] - 0s 14ms/step - loss: 2.1156 - accuracy: 0.2500\n",
            "Epoch 18/100\n",
            "2/2 [==============================] - 0s 14ms/step - loss: 2.1820 - accuracy: 0.1250\n",
            "Epoch 19/100\n",
            "2/2 [==============================] - 0s 14ms/step - loss: 1.9214 - accuracy: 0.2500\n",
            "Epoch 20/100\n",
            "2/2 [==============================] - 0s 15ms/step - loss: 2.0469 - accuracy: 0.1250\n",
            "Epoch 21/100\n",
            "2/2 [==============================] - 0s 14ms/step - loss: 2.0937 - accuracy: 0.3125\n",
            "Epoch 22/100\n",
            "2/2 [==============================] - 0s 15ms/step - loss: 1.9921 - accuracy: 0.3125\n",
            "Epoch 23/100\n",
            "2/2 [==============================] - 0s 14ms/step - loss: 1.7750 - accuracy: 0.4375\n",
            "Epoch 24/100\n",
            "2/2 [==============================] - 0s 14ms/step - loss: 1.8395 - accuracy: 0.3750\n",
            "Epoch 25/100\n",
            "2/2 [==============================] - 0s 14ms/step - loss: 1.8920 - accuracy: 0.0000e+00\n",
            "Epoch 26/100\n",
            "2/2 [==============================] - 0s 14ms/step - loss: 1.7885 - accuracy: 0.3750\n",
            "Epoch 27/100\n",
            "2/2 [==============================] - 0s 14ms/step - loss: 1.7682 - accuracy: 0.2500\n",
            "Epoch 28/100\n",
            "2/2 [==============================] - 0s 14ms/step - loss: 1.7184 - accuracy: 0.2500\n",
            "Epoch 29/100\n",
            "2/2 [==============================] - 0s 14ms/step - loss: 1.7123 - accuracy: 0.3750\n",
            "Epoch 30/100\n",
            "2/2 [==============================] - 0s 15ms/step - loss: 1.7598 - accuracy: 0.2500\n",
            "Epoch 31/100\n",
            "2/2 [==============================] - 0s 14ms/step - loss: 1.6958 - accuracy: 0.3125\n",
            "Epoch 32/100\n",
            "2/2 [==============================] - 0s 14ms/step - loss: 1.8241 - accuracy: 0.0000e+00\n",
            "Epoch 33/100\n",
            "2/2 [==============================] - 0s 14ms/step - loss: 1.6100 - accuracy: 0.3750\n",
            "Epoch 34/100\n",
            "2/2 [==============================] - 0s 13ms/step - loss: 1.7232 - accuracy: 0.0000e+00\n",
            "Epoch 35/100\n",
            "2/2 [==============================] - 0s 14ms/step - loss: 1.7427 - accuracy: 0.0625\n",
            "Epoch 36/100\n",
            "2/2 [==============================] - 0s 14ms/step - loss: 1.5627 - accuracy: 0.3125\n",
            "Epoch 37/100\n",
            "2/2 [==============================] - 0s 14ms/step - loss: 1.5176 - accuracy: 0.3125\n",
            "Epoch 38/100\n",
            "2/2 [==============================] - 0s 14ms/step - loss: 1.5874 - accuracy: 0.3750\n",
            "Epoch 39/100\n",
            "2/2 [==============================] - 0s 14ms/step - loss: 1.6123 - accuracy: 0.0625\n",
            "Epoch 40/100\n",
            "2/2 [==============================] - 0s 14ms/step - loss: 1.4739 - accuracy: 0.3125\n",
            "Epoch 41/100\n",
            "2/2 [==============================] - 0s 13ms/step - loss: 1.4161 - accuracy: 0.3125\n",
            "Epoch 42/100\n",
            "2/2 [==============================] - 0s 14ms/step - loss: 1.3826 - accuracy: 0.4375\n",
            "Epoch 43/100\n",
            "2/2 [==============================] - 0s 14ms/step - loss: 1.3235 - accuracy: 0.5000\n",
            "Epoch 44/100\n",
            "2/2 [==============================] - 0s 15ms/step - loss: 1.2608 - accuracy: 0.6250\n",
            "Epoch 45/100\n",
            "2/2 [==============================] - 0s 14ms/step - loss: 1.1998 - accuracy: 0.5625\n",
            "Epoch 46/100\n",
            "2/2 [==============================] - 0s 16ms/step - loss: 1.0968 - accuracy: 0.5000\n",
            "Epoch 47/100\n",
            "2/2 [==============================] - 0s 15ms/step - loss: 1.5704 - accuracy: 0.3750\n",
            "Epoch 48/100\n",
            "2/2 [==============================] - 0s 13ms/step - loss: 1.3449 - accuracy: 0.3125\n",
            "Epoch 49/100\n",
            "2/2 [==============================] - 0s 14ms/step - loss: 1.1520 - accuracy: 0.3750\n",
            "Epoch 50/100\n",
            "2/2 [==============================] - 0s 14ms/step - loss: 0.9275 - accuracy: 0.5000\n",
            "Epoch 51/100\n",
            "2/2 [==============================] - 0s 13ms/step - loss: 1.0595 - accuracy: 0.4375\n",
            "Epoch 52/100\n",
            "2/2 [==============================] - 0s 14ms/step - loss: 1.0038 - accuracy: 0.2500\n",
            "Epoch 53/100\n",
            "2/2 [==============================] - 0s 15ms/step - loss: 0.7420 - accuracy: 0.6250\n",
            "Epoch 54/100\n",
            "2/2 [==============================] - 0s 13ms/step - loss: 0.6754 - accuracy: 0.6875\n",
            "Epoch 55/100\n",
            "2/2 [==============================] - 0s 14ms/step - loss: 0.9593 - accuracy: 0.3750\n",
            "Epoch 56/100\n",
            "2/2 [==============================] - 0s 14ms/step - loss: 0.9700 - accuracy: 0.2500\n",
            "Epoch 57/100\n",
            "2/2 [==============================] - 0s 14ms/step - loss: 0.6662 - accuracy: 0.6250\n",
            "Epoch 58/100\n",
            "2/2 [==============================] - 0s 14ms/step - loss: 0.9036 - accuracy: 0.3750\n",
            "Epoch 59/100\n",
            "2/2 [==============================] - 0s 13ms/step - loss: 0.6342 - accuracy: 0.6250\n",
            "Epoch 60/100\n",
            "2/2 [==============================] - 0s 14ms/step - loss: 0.9075 - accuracy: 0.3750\n",
            "Epoch 61/100\n",
            "2/2 [==============================] - 0s 15ms/step - loss: 0.8858 - accuracy: 0.5000\n",
            "Epoch 62/100\n",
            "2/2 [==============================] - 0s 14ms/step - loss: 0.8452 - accuracy: 0.3750\n",
            "Epoch 63/100\n",
            "2/2 [==============================] - 0s 15ms/step - loss: 0.8261 - accuracy: 0.3750\n",
            "Epoch 64/100\n",
            "2/2 [==============================] - 0s 15ms/step - loss: 0.7813 - accuracy: 0.6250\n",
            "Epoch 65/100\n",
            "2/2 [==============================] - 0s 14ms/step - loss: 0.9316 - accuracy: 0.3125\n",
            "Epoch 66/100\n",
            "2/2 [==============================] - 0s 14ms/step - loss: 0.8010 - accuracy: 0.2500\n",
            "Epoch 67/100\n",
            "2/2 [==============================] - 0s 15ms/step - loss: 0.5722 - accuracy: 0.6250\n",
            "Epoch 68/100\n",
            "2/2 [==============================] - 0s 15ms/step - loss: 0.5311 - accuracy: 0.8125\n",
            "Epoch 69/100\n",
            "2/2 [==============================] - 0s 15ms/step - loss: 0.7585 - accuracy: 0.5000\n",
            "Epoch 70/100\n",
            "2/2 [==============================] - 0s 15ms/step - loss: 0.7577 - accuracy: 0.3750\n",
            "Epoch 71/100\n",
            "2/2 [==============================] - 0s 14ms/step - loss: 1.0989 - accuracy: 0.3125\n",
            "Epoch 72/100\n",
            "2/2 [==============================] - 0s 15ms/step - loss: 0.7446 - accuracy: 0.6250\n",
            "Epoch 73/100\n",
            "2/2 [==============================] - 0s 14ms/step - loss: 0.6252 - accuracy: 0.6250\n",
            "Epoch 74/100\n",
            "2/2 [==============================] - 0s 14ms/step - loss: 0.5728 - accuracy: 0.6250\n",
            "Epoch 75/100\n",
            "2/2 [==============================] - 0s 14ms/step - loss: 0.7309 - accuracy: 0.5625\n",
            "Epoch 76/100\n",
            "2/2 [==============================] - 0s 14ms/step - loss: 0.7852 - accuracy: 0.3125\n",
            "Epoch 77/100\n",
            "2/2 [==============================] - 0s 13ms/step - loss: 0.4754 - accuracy: 0.7500\n",
            "Epoch 78/100\n",
            "2/2 [==============================] - 0s 14ms/step - loss: 0.6098 - accuracy: 0.7500\n",
            "Epoch 79/100\n",
            "2/2 [==============================] - 0s 14ms/step - loss: 0.5551 - accuracy: 0.7500\n",
            "Epoch 80/100\n",
            "2/2 [==============================] - 0s 14ms/step - loss: 0.4050 - accuracy: 0.7500\n",
            "Epoch 81/100\n",
            "2/2 [==============================] - 0s 15ms/step - loss: 0.5292 - accuracy: 0.6875\n",
            "Epoch 82/100\n",
            "2/2 [==============================] - 0s 13ms/step - loss: 0.4943 - accuracy: 0.7500\n",
            "Epoch 83/100\n",
            "2/2 [==============================] - 0s 14ms/step - loss: 0.5398 - accuracy: 0.5000\n",
            "Epoch 84/100\n",
            "2/2 [==============================] - 0s 13ms/step - loss: 0.4853 - accuracy: 0.5625\n",
            "Epoch 85/100\n",
            "2/2 [==============================] - 0s 13ms/step - loss: 0.3201 - accuracy: 0.8750\n",
            "Epoch 86/100\n",
            "2/2 [==============================] - 0s 14ms/step - loss: 0.3735 - accuracy: 0.7500\n",
            "Epoch 87/100\n",
            "2/2 [==============================] - 0s 14ms/step - loss: 0.3621 - accuracy: 0.8125\n",
            "Epoch 88/100\n",
            "2/2 [==============================] - 0s 14ms/step - loss: 0.3252 - accuracy: 0.8750\n",
            "Epoch 89/100\n",
            "2/2 [==============================] - 0s 13ms/step - loss: 0.3057 - accuracy: 0.8750\n",
            "Epoch 90/100\n",
            "2/2 [==============================] - 0s 14ms/step - loss: 0.2373 - accuracy: 1.0000\n",
            "Epoch 91/100\n",
            "2/2 [==============================] - 0s 14ms/step - loss: 0.2341 - accuracy: 1.0000\n",
            "Epoch 92/100\n",
            "2/2 [==============================] - 0s 13ms/step - loss: 0.3049 - accuracy: 0.9375\n",
            "Epoch 93/100\n",
            "2/2 [==============================] - 0s 14ms/step - loss: 0.2162 - accuracy: 0.9375\n",
            "Epoch 94/100\n",
            "2/2 [==============================] - 0s 14ms/step - loss: 0.1901 - accuracy: 0.9375\n",
            "Epoch 95/100\n",
            "2/2 [==============================] - 0s 14ms/step - loss: 0.1724 - accuracy: 1.0000\n",
            "Epoch 96/100\n",
            "2/2 [==============================] - 0s 14ms/step - loss: 0.1298 - accuracy: 0.9375\n",
            "Epoch 97/100\n",
            "2/2 [==============================] - 0s 14ms/step - loss: 0.1089 - accuracy: 1.0000\n",
            "Epoch 98/100\n",
            "2/2 [==============================] - 0s 16ms/step - loss: 0.1310 - accuracy: 1.0000\n",
            "Epoch 99/100\n",
            "2/2 [==============================] - 0s 14ms/step - loss: 0.0980 - accuracy: 1.0000\n",
            "Epoch 100/100\n",
            "2/2 [==============================] - 0s 14ms/step - loss: 0.0811 - accuracy: 1.0000\n"
          ]
        },
        {
          "output_type": "execute_result",
          "data": {
            "text/plain": [
              "<keras.src.callbacks.History at 0x79c57c5c98d0>"
            ]
          },
          "metadata": {},
          "execution_count": 33
        }
      ]
    },
    {
      "cell_type": "code",
      "source": [
        "# function to predict answers\n",
        "def preprocess_input_text(input_text):\n",
        "    sequence = tokenizer.texts_to_sequences([input_text])\n",
        "    padded_sequence = tf.keras.preprocessing.sequence.pad_sequences(sequence, maxlen=max_length, padding='post')\n",
        "    return padded_sequence\n",
        "\n",
        "def generate_response(input_sequence):\n",
        "    response_sequence = np.zeros((1, max_length))\n",
        "    response_sequence[0, 0] = 1  # start token\n",
        "    for i in range(1, max_length):\n",
        "        prediction = model.predict([input_sequence, response_sequence]).argmax(axis=2)\n",
        "        response_sequence[0, i] = prediction[0, i-1]\n",
        "        if prediction[0, i-1] == 2:  # end token\n",
        "            break\n",
        "    return response_sequence\n",
        "\n",
        "def sequence_to_text(sequence):\n",
        "    return ' '.join(tokenizer.index_word.get(i, '') for i in sequence if i > 2)"
      ],
      "metadata": {
        "id": "6YTq6HyUtV-D"
      },
      "execution_count": 34,
      "outputs": []
    },
    {
      "cell_type": "code",
      "source": [
        "# putting it all together for responses\n",
        "\n",
        "def chat_with_bot(input_text):\n",
        "    input_sequence = preprocess_input_text(input_text)\n",
        "    response_sequence = generate_response(input_sequence)\n",
        "    response_text = sequence_to_text(response_sequence[0])\n",
        "    return response_text"
      ],
      "metadata": {
        "id": "NmibvN6MT6Yf"
      },
      "execution_count": 35,
      "outputs": []
    },
    {
      "cell_type": "code",
      "source": [
        "# Interactive chat with the bot\n",
        "print(\"Start chatting! Type 'quit' to exit.\")\n",
        "while True:\n",
        "    user_input = input(\"You: \")\n",
        "    if user_input.lower() == 'quit':\n",
        "        break\n",
        "    response = chat_with_bot(user_input)\n",
        "    print(f\"Bot: {response}\")\n",
        "\n"
      ],
      "metadata": {
        "colab": {
          "base_uri": "https://localhost:8080/"
        },
        "id": "uPIE1rsltpcw",
        "outputId": "0204427a-0c4d-435f-c133-08a00ce0092a"
      },
      "execution_count": null,
      "outputs": [
        {
          "output_type": "stream",
          "name": "stdout",
          "text": [
            "Start chatting! Type 'quit' to exit.\n",
            "You: Hello\n",
            "1/1 [==============================] - 1s 634ms/step\n",
            "1/1 [==============================] - 0s 21ms/step\n",
            "1/1 [==============================] - 0s 20ms/step\n",
            "Bot: hey there\n",
            "You: How are you?\n",
            "1/1 [==============================] - 0s 21ms/step\n",
            "1/1 [==============================] - 0s 20ms/step\n",
            "1/1 [==============================] - 0s 20ms/step\n",
            "Bot: i am doing\n"
          ]
        }
      ]
    }
  ]
}